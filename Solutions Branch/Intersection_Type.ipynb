{
 "cells": [
  {
   "cell_type": "code",
   "execution_count": 1,
   "id": "90690e6d-c5aa-4dcf-8179-e98d0d96df07",
   "metadata": {},
   "outputs": [],
   "source": [
    "#import dependencies\n",
    "\n",
    "import os\n",
    "import csv\n",
    "import pandas as pd\n",
    "import matplotlib.pyplot as plt"
   ]
  },
  {
   "cell_type": "code",
   "execution_count": 2,
   "id": "a33d4748-1def-41ed-b374-b60bb52f08e8",
   "metadata": {},
   "outputs": [],
   "source": [
    "# load in files\n",
    "\n",
    "accident_data = \"./accident.csv\""
   ]
  },
  {
   "cell_type": "code",
   "execution_count": 3,
   "id": "c802f0a6-9788-421e-8eb6-143a0f2f933b",
   "metadata": {},
   "outputs": [
    {
     "data": {
      "text/plain": [
       "Index(['index', 'accident_id', 'ST_CASE', 'VE_TOTAL', 'VE_FORMS', 'PEDS',\n",
       "       'PERSONS', 'COUNTY', 'county_name', 'CITY', 'city_name', 'DAY', 'MONTH',\n",
       "       'YEAR', 'HOUR', 'MINUTE', 'NHS', 'FUNC_SYS', 'func_sys_lit', 'ROAD_FNC',\n",
       "       'road_fnc_lit', 'RD_OWNER', 'rd_owner_lit', 'TWAY_ID', 'TWAY_ID2',\n",
       "       'LATITUDE', 'LONGITUD', 'SP_JUR', 'sp_jur_lit', 'HARM_EV',\n",
       "       'harm_ev_lit', 'MAN_COLL', 'man_coll_lit', 'RELJCT1', 'RELJCT2',\n",
       "       'TYP_INT', 'WRK_ZONE', 'REL_ROAD', 'LGT_COND', 'lgt_cond_lit',\n",
       "       'WEATHER', 'weather_lit', 'SCH_BUS', 'CF1', 'CF2', 'CF3', 'cf1_lit',\n",
       "       'cf2_lit', 'cf3_lit', 'FATALS', 'A_INTER', 'a_inter_lit', 'A_ROADFC',\n",
       "       'a_road_fc_lit', 'A_TOD', 'a_tod_lit', 'A_DOW', 'a_dow_lit', 'A_LT',\n",
       "       'a_lt_lit', 'A_SPCRA', 'a_spcra_lit', 'A_PED', 'a_ped_lit', 'A_PED_F',\n",
       "       'a_ped_f_lit', 'A_PEDAL', 'a_pedal_lit', 'A_PEDAL_F', 'a_pedal_f_lit',\n",
       "       'A_POLPUR', 'a_polour_lit', 'A_POSBAC', 'a_posbac_lit', 'A_DIST',\n",
       "       'a_dist_lit', 'A_DROWSY', 'a_drowsy_lit', 'INDIAN_RES',\n",
       "       'indian_res_lit'],\n",
       "      dtype='object')"
      ]
     },
     "execution_count": 3,
     "metadata": {},
     "output_type": "execute_result"
    }
   ],
   "source": [
    "#read CSV file and review columns\n",
    "accidents = pd.read_csv(accident_data)\n",
    "\n",
    "accidents.columns"
   ]
  },
  {
   "cell_type": "code",
   "execution_count": 20,
   "id": "f161fca8-7ad1-4a0e-9ae4-7e6a2056f59a",
   "metadata": {},
   "outputs": [
    {
     "data": {
      "text/plain": [
       "accident_id     1087\n",
       "road_fnc_lit    1087\n",
       "man_coll_lit    1087\n",
       "FATALS          1087\n",
       "weather_lit     1087\n",
       "dtype: int64"
      ]
     },
     "execution_count": 20,
     "metadata": {},
     "output_type": "execute_result"
    }
   ],
   "source": [
    "#determine how many accidents have the type of roadway specified\n",
    "\n",
    "#create new dataframe with only columns being reviewed\n",
    "reduced_df = pd.DataFrame(accidents[['accident_id', 'road_fnc_lit', 'man_coll_lit', 'FATALS', 'weather_lit']])\n",
    "\n",
    "#filter out any unknowns or cells with only \".\" listed\n",
    "\n",
    "intersection_type = reduced_df[reduced_df['road_fnc_lit'].str.contains('Unknown|\\\\.') == False] \n",
    "\n",
    "\n",
    "intersection_type.count()\n"
   ]
  },
  {
   "cell_type": "code",
   "execution_count": 22,
   "id": "b99b9e21-a124-47c3-999b-3c19307e14fe",
   "metadata": {},
   "outputs": [
    {
     "data": {
      "text/html": [
       "<div>\n",
       "<style scoped>\n",
       "    .dataframe tbody tr th:only-of-type {\n",
       "        vertical-align: middle;\n",
       "    }\n",
       "\n",
       "    .dataframe tbody tr th {\n",
       "        vertical-align: top;\n",
       "    }\n",
       "\n",
       "    .dataframe thead th {\n",
       "        text-align: right;\n",
       "    }\n",
       "</style>\n",
       "<table border=\"1\" class=\"dataframe\">\n",
       "  <thead>\n",
       "    <tr style=\"text-align: right;\">\n",
       "      <th></th>\n",
       "      <th>Accident ID</th>\n",
       "      <th>Intersection Type</th>\n",
       "      <th>Accident Type</th>\n",
       "      <th>Fatalities</th>\n",
       "      <th>Weather Conditions</th>\n",
       "    </tr>\n",
       "  </thead>\n",
       "  <tbody>\n",
       "    <tr>\n",
       "      <th>0</th>\n",
       "      <td>2012040001</td>\n",
       "      <td>Urban-Local Road or Street</td>\n",
       "      <td>Not a Collision with Motor Vehicle In-Transport</td>\n",
       "      <td>1</td>\n",
       "      <td>Clear</td>\n",
       "    </tr>\n",
       "    <tr>\n",
       "      <th>1</th>\n",
       "      <td>2012040002</td>\n",
       "      <td>Rural-Major Collector</td>\n",
       "      <td>Not a Collision with Motor Vehicle In-Transport</td>\n",
       "      <td>1</td>\n",
       "      <td>Cloudy</td>\n",
       "    </tr>\n",
       "    <tr>\n",
       "      <th>2</th>\n",
       "      <td>2012040003</td>\n",
       "      <td>Urban-Collector</td>\n",
       "      <td>Not a Collision with Motor Vehicle In-Transport</td>\n",
       "      <td>1</td>\n",
       "      <td>Clear</td>\n",
       "    </tr>\n",
       "    <tr>\n",
       "      <th>3</th>\n",
       "      <td>2012040004</td>\n",
       "      <td>Urban-Collector</td>\n",
       "      <td>Angle</td>\n",
       "      <td>1</td>\n",
       "      <td>Clear</td>\n",
       "    </tr>\n",
       "    <tr>\n",
       "      <th>4</th>\n",
       "      <td>2012040005</td>\n",
       "      <td>Rural-Major Collector</td>\n",
       "      <td>Not a Collision with Motor Vehicle In-Transport</td>\n",
       "      <td>1</td>\n",
       "      <td>Clear</td>\n",
       "    </tr>\n",
       "    <tr>\n",
       "      <th>...</th>\n",
       "      <td>...</td>\n",
       "      <td>...</td>\n",
       "      <td>...</td>\n",
       "      <td>...</td>\n",
       "      <td>...</td>\n",
       "    </tr>\n",
       "    <tr>\n",
       "      <th>1105</th>\n",
       "      <td>2014040718</td>\n",
       "      <td>Rural-Minor Collector</td>\n",
       "      <td>Not a Collision with Motor Vehicle In-Transport</td>\n",
       "      <td>1</td>\n",
       "      <td>Clear</td>\n",
       "    </tr>\n",
       "    <tr>\n",
       "      <th>1107</th>\n",
       "      <td>2014040722</td>\n",
       "      <td>Urban-Minor Arterial</td>\n",
       "      <td>Unknown</td>\n",
       "      <td>1</td>\n",
       "      <td>Unknown</td>\n",
       "    </tr>\n",
       "    <tr>\n",
       "      <th>1108</th>\n",
       "      <td>2014040725</td>\n",
       "      <td>Rural-Local Road or Street</td>\n",
       "      <td>Not a Collision with Motor Vehicle In-Transport</td>\n",
       "      <td>1</td>\n",
       "      <td>Unknown</td>\n",
       "    </tr>\n",
       "    <tr>\n",
       "      <th>1110</th>\n",
       "      <td>2014040727</td>\n",
       "      <td>Rural-Major Collector</td>\n",
       "      <td>Not a Collision with Motor Vehicle In-Transport</td>\n",
       "      <td>1</td>\n",
       "      <td>Unknown</td>\n",
       "    </tr>\n",
       "    <tr>\n",
       "      <th>1111</th>\n",
       "      <td>2014040728</td>\n",
       "      <td>Rural-Major Collector</td>\n",
       "      <td>Unknown</td>\n",
       "      <td>1</td>\n",
       "      <td>Unknown</td>\n",
       "    </tr>\n",
       "  </tbody>\n",
       "</table>\n",
       "<p>1087 rows × 5 columns</p>\n",
       "</div>"
      ],
      "text/plain": [
       "      Accident ID           Intersection Type  \\\n",
       "0      2012040001  Urban-Local Road or Street   \n",
       "1      2012040002       Rural-Major Collector   \n",
       "2      2012040003             Urban-Collector   \n",
       "3      2012040004             Urban-Collector   \n",
       "4      2012040005       Rural-Major Collector   \n",
       "...           ...                         ...   \n",
       "1105   2014040718       Rural-Minor Collector   \n",
       "1107   2014040722        Urban-Minor Arterial   \n",
       "1108   2014040725  Rural-Local Road or Street   \n",
       "1110   2014040727       Rural-Major Collector   \n",
       "1111   2014040728       Rural-Major Collector   \n",
       "\n",
       "                                        Accident Type  Fatalities  \\\n",
       "0     Not a Collision with Motor Vehicle In-Transport           1   \n",
       "1     Not a Collision with Motor Vehicle In-Transport           1   \n",
       "2     Not a Collision with Motor Vehicle In-Transport           1   \n",
       "3                                               Angle           1   \n",
       "4     Not a Collision with Motor Vehicle In-Transport           1   \n",
       "...                                               ...         ...   \n",
       "1105  Not a Collision with Motor Vehicle In-Transport           1   \n",
       "1107                                          Unknown           1   \n",
       "1108  Not a Collision with Motor Vehicle In-Transport           1   \n",
       "1110  Not a Collision with Motor Vehicle In-Transport           1   \n",
       "1111                                          Unknown           1   \n",
       "\n",
       "     Weather Conditions  \n",
       "0                 Clear  \n",
       "1                Cloudy  \n",
       "2                 Clear  \n",
       "3                 Clear  \n",
       "4                 Clear  \n",
       "...                 ...  \n",
       "1105              Clear  \n",
       "1107            Unknown  \n",
       "1108            Unknown  \n",
       "1110            Unknown  \n",
       "1111            Unknown  \n",
       "\n",
       "[1087 rows x 5 columns]"
      ]
     },
     "execution_count": 22,
     "metadata": {},
     "output_type": "execute_result"
    }
   ],
   "source": [
    "#rename columns to be more readable\n",
    "\n",
    "intersection_type = intersection_type.rename(columns={'accident_id': 'Accident ID', 'road_fnc_lit': 'Intersection Type', 'man_coll_lit': 'Accident Type', \n",
    "                                               'FATALS': 'Fatalities', 'weather_lit': 'Weather Conditions'})\n",
    "\n",
    "intersection_type"
   ]
  },
  {
   "cell_type": "code",
   "execution_count": 24,
   "id": "acca133b-8da1-4294-a9ae-f47390eff463",
   "metadata": {},
   "outputs": [
    {
     "data": {
      "text/plain": [
       "Intersection Type\n",
       "Rural-Local Road or Street    161\n",
       "Rural-Major Collector         190\n",
       "Rural-Minor Arterial          102\n",
       "Rural-Minor Collector          38\n",
       "Urban-Collector               133\n",
       "Urban-Local Road or Street    148\n",
       "Urban-Minor Arterial          315\n",
       "Name: Accident ID, dtype: int64"
      ]
     },
     "execution_count": 24,
     "metadata": {},
     "output_type": "execute_result"
    }
   ],
   "source": [
    "#determine the total # of accidents in each intersection type in order to figure out which intersection layout has the most accidents\n",
    "\n",
    "most_accidents = intersection_type.groupby('Intersection Type')['Accident ID'].count()\n",
    "\n",
    "most_accidents"
   ]
  },
  {
   "cell_type": "code",
   "execution_count": 36,
   "id": "38c4112c-d1d3-4615-9ffc-8510968f9062",
   "metadata": {},
   "outputs": [
    {
     "data": {
      "text/plain": [
       "Text(0.5, 1.0, 'Total # of Accidents Per Intersection Type')"
      ]
     },
     "execution_count": 36,
     "metadata": {},
     "output_type": "execute_result"
    },
    {
     "data": {
      "image/png": "[encoded data removed]",
      "text/plain": [
       "<Figure size 640x480 with 1 Axes>"
      ]
     },
     "metadata": {},
     "output_type": "display_data"
    }
   ],
   "source": [
    "#prepare a chart showing the total accidents for each intersection type\n",
    "\n",
    "most_accidents.plot(kind='bar', color='skyblue')\n",
    "plt.tight_layout()\n",
    "plt.ylabel('Total # of Accidents')\n",
    "plt.title('Total # of Accidents Per Intersection Type')"
   ]
  },
  {
   "cell_type": "code",
   "execution_count": 40,
   "id": "8f05adeb-9fdf-43cb-a469-c0dce65e6f61",
   "metadata": {},
   "outputs": [
    {
     "data": {
      "text/plain": [
       "Intersection Type\n",
       "Rural-Local Road or Street    173\n",
       "Rural-Major Collector         223\n",
       "Rural-Minor Arterial          128\n",
       "Rural-Minor Collector          42\n",
       "Urban-Collector               145\n",
       "Urban-Local Road or Street    152\n",
       "Urban-Minor Arterial          330\n",
       "Name: Fatalities, dtype: int64"
      ]
     },
     "execution_count": 40,
     "metadata": {},
     "output_type": "execute_result"
    }
   ],
   "source": [
    "#review the total # of fatalities within each intersection type\n",
    "\n",
    "intersection_type.groupby('Intersection Type')['Fatalities'].sum()\n",
    "\n",
    "#Urban-Minor Arterial roadways also have the highest # of fatalities within the dataset. "
   ]
  }
 ],
 "metadata": {
  "kernelspec": {
   "display_name": "Python 3 (ipykernel)",
   "language": "python",
   "name": "python3"
  },
  "language_info": {
   "codemirror_mode": {
    "name": "ipython",
    "version": 3
   },
   "file_extension": ".py",
   "mimetype": "text/x-python",
   "name": "python",
   "nbconvert_exporter": "python",
   "pygments_lexer": "ipython3",
   "version": "3.11.7"
  }
 },
 "nbformat": 4,
 "nbformat_minor": 5
}
